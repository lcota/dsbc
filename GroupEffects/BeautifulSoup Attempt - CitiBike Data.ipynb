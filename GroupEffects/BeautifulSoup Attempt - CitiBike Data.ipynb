{
 "cells": [
  {
   "cell_type": "markdown",
   "metadata": {},
   "source": [
    "### code to download datasets from web sources"
   ]
  },
  {
   "cell_type": "markdown",
   "metadata": {},
   "source": [
    "Followed BeautifulSoup sample code from:\n",
    "http://web.stanford.edu/~zlotnick/TextAsData/Web_Scraping_with_Beautiful_Soup.html\n",
    "\n",
    "** Stackoverflow response much better than above link\n",
    "http://stackoverflow.com/questions/1080411/retrieve-links-from-web-page-using-python-and-beautifulsoup\n",
    "\n",
    "** yet another link, this one using Requests library**   \n",
    "\n",
    "_why is this link using beautifulsoup4?_  \n",
    "https://gist.github.com/bradmontgomery/1872970"
   ]
  },
  {
   "cell_type": "code",
   "execution_count": 2,
   "metadata": {
    "collapsed": false
   },
   "outputs": [],
   "source": [
    "import urllib2\n",
    "import sys, os\n",
    "from BeautifulSoup import BeautifulSoup, SoupStrainer"
   ]
  },
  {
   "cell_type": "code",
   "execution_count": 24,
   "metadata": {
    "collapsed": false
   },
   "outputs": [],
   "source": [
    "srcurl = \"https://s3.amazonaws.com/tripdata/index.html\"\n",
    "srcpage = urllib2.urlopen(url = srcurl).read()\n",
    "soup = BeautifulSoup(srcpage)"
   ]
  },
  {
   "cell_type": "code",
   "execution_count": 26,
   "metadata": {
    "collapsed": true
   },
   "outputs": [],
   "source": [
    "## Inspect elements contained in soup object\n",
    "elements = []\n",
    "for element in soup:\n",
    "    elements.append(element)"
   ]
  },
  {
   "cell_type": "code",
   "execution_count": 27,
   "metadata": {
    "collapsed": false
   },
   "outputs": [
    {
     "data": {
      "text/plain": [
       "1"
      ]
     },
     "execution_count": 27,
     "metadata": {},
     "output_type": "execute_result"
    }
   ],
   "source": [
    "len(elements)"
   ]
  },
  {
   "cell_type": "code",
   "execution_count": 29,
   "metadata": {
    "collapsed": false
   },
   "outputs": [],
   "source": []
  },
  {
   "cell_type": "code",
   "execution_count": null,
   "metadata": {
    "collapsed": true
   },
   "outputs": [],
   "source": []
  },
  {
   "cell_type": "code",
   "execution_count": null,
   "metadata": {
    "collapsed": true
   },
   "outputs": [],
   "source": []
  },
  {
   "cell_type": "code",
   "execution_count": null,
   "metadata": {
    "collapsed": true
   },
   "outputs": [],
   "source": []
  },
  {
   "cell_type": "code",
   "execution_count": null,
   "metadata": {
    "collapsed": true
   },
   "outputs": [],
   "source": []
  },
  {
   "cell_type": "code",
   "execution_count": 16,
   "metadata": {
    "collapsed": false
   },
   "outputs": [],
   "source": [
    "import requests\n",
    "r = requests.get(srcurl)\n",
    "# links = [for link in BeautifulSoup(url = )]"
   ]
  },
  {
   "cell_type": "code",
   "execution_count": 17,
   "metadata": {
    "collapsed": false
   },
   "outputs": [
    {
     "name": "stdout",
     "output_type": "stream",
     "text": [
      "200\n"
     ]
    }
   ],
   "source": [
    "print r.status_code"
   ]
  },
  {
   "cell_type": "code",
   "execution_count": 22,
   "metadata": {
    "collapsed": false
   },
   "outputs": [
    {
     "name": "stdout",
     "output_type": "stream",
     "text": [
      "<a href=\"{{url}}\">{{simpleFilename}}</a>\n"
     ]
    }
   ],
   "source": [
    "import httplib2\n",
    "http = httplib2.Http()\n",
    "status, response = http.request(srcurl)\n",
    "links = []\n",
    "for link in BeautifulSoup(response, parseOnlyThese=SoupStrainer('a')):\n",
    "    if link is not None:\n",
    "        print link"
   ]
  },
  {
   "cell_type": "markdown",
   "metadata": {},
   "source": [
    "## Trial num 2 with bs4"
   ]
  },
  {
   "cell_type": "markdown",
   "metadata": {},
   "source": [
    "### Using guide at:\n",
    "http://www.pythonforbeginners.com/python-on-the-web/web-scraping-with-beautifulsoup"
   ]
  },
  {
   "cell_type": "code",
   "execution_count": 30,
   "metadata": {
    "collapsed": true
   },
   "outputs": [],
   "source": [
    "from bs4 import BeautifulSoup, SoupStrainer"
   ]
  },
  {
   "cell_type": "code",
   "execution_count": 31,
   "metadata": {
    "collapsed": true
   },
   "outputs": [],
   "source": [
    "import requests"
   ]
  },
  {
   "cell_type": "code",
   "execution_count": 32,
   "metadata": {
    "collapsed": true
   },
   "outputs": [],
   "source": [
    "url = \"https://s3.amazonaws.com/tripdata/index.html\"\n",
    "r = requests.get(url)\n",
    "data = r.text"
   ]
  },
  {
   "cell_type": "code",
   "execution_count": 34,
   "metadata": {
    "collapsed": false
   },
   "outputs": [],
   "source": [
    "soup = BeautifulSoup(data, \"lxml\")"
   ]
  },
  {
   "cell_type": "code",
   "execution_count": 38,
   "metadata": {
    "collapsed": false
   },
   "outputs": [],
   "source": [
    "lines = [link for link in soup]"
   ]
  },
  {
   "cell_type": "code",
   "execution_count": 43,
   "metadata": {
    "collapsed": false
   },
   "outputs": [],
   "source": [
    "t = lines[0]"
   ]
  },
  {
   "cell_type": "code",
   "execution_count": 44,
   "metadata": {
    "collapsed": true
   },
   "outputs": [],
   "source": [
    "lines = t.text.splitlines()"
   ]
  },
  {
   "cell_type": "code",
   "execution_count": 45,
   "metadata": {
    "collapsed": false
   },
   "outputs": [
    {
     "data": {
      "text/plain": [
       "160"
      ]
     },
     "execution_count": 45,
     "metadata": {},
     "output_type": "execute_result"
    }
   ],
   "source": [
    "len(lines)"
   ]
  },
  {
   "cell_type": "code",
   "execution_count": 49,
   "metadata": {
    "collapsed": false
   },
   "outputs": [],
   "source": [
    "links = [s for s in lines if s.find('href')]"
   ]
  },
  {
   "cell_type": "code",
   "execution_count": 51,
   "metadata": {
    "collapsed": false
   },
   "outputs": [
    {
     "name": "stdout",
     "output_type": "stream",
     "text": [
      "\n",
      "\n",
      "\n",
      "\n",
      "Bucket loading...\n",
      "\n",
      "\n",
      "        .hide-while-loading {\n",
      "          display:none;\n",
      "        }\n",
      "        .i-expand-collapse {\n",
      "          opacity: 0.3;\n",
      "        }\n",
      "        .i-file-or-folder {\n",
      "          margin-right: 4px;\n",
      "        }\n",
      "      \n",
      "\n",
      "\n",
      "\n",
      "\n",
      "\n",
      "\n",
      "Bucket loading...\n",
      "\n",
      "\n",
      "\n",
      "Name\n",
      "Date Modified\n",
      "Size\n",
      "Type\n",
      "\n",
      "\n",
      "\n",
      "\n",
      "\n",
      "\n",
      "\n",
      "    <tr>\n",
      "      {{#if isFolder}}\n",
      "        <td><i class=\"icon-chevron-down i-expand-collapse\" style=\"margin-left:calc(({{numLevels}} - 1) * 16px)\");></i><i class=\"icon-folder-open i-file-or-folder\" style=\"margin-left:4px;\"></i>\n",
      "        {{simpleFilename}}</td>\n",
      "      {{else}}\n",
      "        <td><i class=\"icon-file i-file-or-folder\"  style=\"margin-left:calc(({{numLevels}} * 16px) + 4px);\"></i>\n",
      "        <a href=\"{{url}}\">{{simpleFilename}}</a></td>\n",
      "      {{/if}}\n",
      "      <td>{{friendlyLastModified}}</td>\n",
      "\n",
      "      <td>{{friendlySizeName}}</td>\n",
      "      <td>{{type}}</td>\n",
      "    </tr>\n",
      "  \n",
      "\n",
      "    (function($){\n",
      "      \"use strict\";\n",
      "      var FOLDER_PATTERN = new RegExp('_\\\\$folder\\\\$$');\n",
      "      var TYPE_PATTERN = new RegExp('\\\\.([^\\\\.\\\\s]{1,10})$');\n",
      "        var KB = 1024;\n",
      "        var MB = 1000000;\n",
      "        var GB = 1000000000;\n",
      "\n",
      "    // replace last /index.html to get bucket root\n",
      "      var bucketUrl = document.location.href.replace(/\\/[^\\/]+$/, '');\n",
      "        var compiledTemplate;\n",
      "\n",
      "    // return e.g. 1.2KB, 1.3MB, 2GB, etc.\n",
      "      function toFriendlySizeName(size){\n",
      "        if (size === 0) {\n",
      "          return '';\n",
      "        } else if (size < KB) {\n",
      "          return size + ' B';\n",
      "        } else if (size < MB) {\n",
      "          return (size / KB).toFixed(0) + ' KB';\n",
      "        } else if (size < GB) {\n",
      "          return (size / MB).toFixed(2) + ' MB';\n",
      "        }\n",
      "        return (size / GB).toFixed(2) + ' GB';\n",
      "      }\n",
      "\n",
      "\n",
      "      // POJO describing a file or a folder\n",
      "      function FileOrFolder(lastModified, etag, size, key){\n",
      "        var self = this;\n",
      "\n",
      "        self.lastModified = lastModified;\n",
      "        self.etag = etag;\n",
      "        self.size = size;\n",
      "        self.key = key;\n",
      "\n",
      "        // init logic\n",
      "        self.isFolder = FOLDER_PATTERN.test(self.key);\n",
      "        self.filename = self.isFolder ? self.key.replace(FOLDER_PATTERN,'') : self.key;\n",
      "        self.url = bucketUrl + '/' + self.key;\n",
      "        self.levels = self.filename.split('/');\n",
      "        self.numLevels = self.levels.length;\n",
      "        self.simpleFilename = self.levels[self.numLevels - 1];\n",
      "        self.friendlySizeName = toFriendlySizeName(parseInt(self.size,10));\n",
      "        var foundTypes = TYPE_PATTERN.exec(self.simpleFilename);\n",
      "        self.type = self.isFolder ? 'Folder ' : (foundTypes ? (foundTypes[1].toUpperCase() + ' file') : 'Unknown');\n",
      "        self.friendlyLastModified = moment(lastModified).format('MMM Do YYYY, hh:mm:ss a');\n",
      "      }\n",
      "\n",
      "        function onAjaxSuccess(xml) {\n",
      "            var listBucketResult = $(xml).find('ListBucketResult');\n",
      "\n",
      "            // set a reasonable title instead of \"Bucket loading\"\n",
      "            var title = 'Index of bucket \"' + listBucketResult.find('Name').text() + '\"';\n",
      "            document.title = title;\n",
      "            $('#h1-title').text(title);\n",
      "\n",
      "            var $tbodyContent = $('#tbody-content');\n",
      "\n",
      "            // create the file or folder objects\n",
      "\n",
      "            var filesOrFolders = [];\n",
      "\n",
      "            listBucketResult.find('Contents').each(function(idx, element){\n",
      "\n",
      "                var $element = $(element);\n",
      "\n",
      "                var fileOrFolder = new FileOrFolder(\n",
      "                     $element.find('LastModified').text(),\n",
      "                     $element.find('ETag').text(),\n",
      "                     $element.find('Size').text(),\n",
      "                     $element.find('Key').text()\n",
      "                );\n",
      "\n",
      "                filesOrFolders.push(fileOrFolder);\n",
      "            });\n",
      "\n",
      "            // sort\n",
      "            filesOrFolders.sort(function(left, right){\n",
      "                if (left.levels === right.levels) {\n",
      "                    return 0;\n",
      "                } else if (left.levels < right.levels) {\n",
      "                    return -1;\n",
      "                }\n",
      "                return 1;\n",
      "            });\n",
      "\n",
      "            // fill in the rows\n",
      "            var str = '';\n",
      "            for (var i = 0; i < filesOrFolders.length; i ++) {\n",
      "                str += compiledTemplate(filesOrFolders[i]);\n",
      "            }\n",
      "            $tbodyContent.append(str);\n",
      "            $('.hide-while-loading').show();\n",
      "        }\n",
      "\n",
      "        $.ajax({\n",
      "         url: bucketUrl,\n",
      "         success: onAjaxSuccess\n",
      "        });\n",
      "\n",
      "    // compile while ajax is in progress\n",
      "        compiledTemplate = Handlebars.compile($('#file-or-folder').html());\n",
      "\n",
      "    })(jQuery);\n",
      "    \n",
      "\n"
     ]
    }
   ],
   "source": [
    "for l in links:\n",
    "    print l"
   ]
  },
  {
   "cell_type": "code",
   "execution_count": null,
   "metadata": {
    "collapsed": true
   },
   "outputs": [],
   "source": []
  }
 ],
 "metadata": {
  "kernelspec": {
   "display_name": "Python [conda root]",
   "language": "python",
   "name": "conda-root-py"
  },
  "language_info": {
   "codemirror_mode": {
    "name": "ipython",
    "version": 2
   },
   "file_extension": ".py",
   "mimetype": "text/x-python",
   "name": "python",
   "nbconvert_exporter": "python",
   "pygments_lexer": "ipython2",
   "version": "2.7.12"
  }
 },
 "nbformat": 4,
 "nbformat_minor": 1
}
