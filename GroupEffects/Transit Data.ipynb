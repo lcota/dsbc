{
 "cells": [
  {
   "cell_type": "code",
   "execution_count": 1,
   "metadata": {
    "collapsed": false
   },
   "outputs": [
    {
     "data": {
      "text/html": [
       "<style>body {\n",
       "    margin: 0;\n",
       "    font-family: Helvetica;\n",
       "}\n",
       "table.dataframe {\n",
       "    border-collapse: collapse;\n",
       "    border: none;\n",
       "}\n",
       "table.dataframe tr {\n",
       "    border: none;\n",
       "}\n",
       "table.dataframe td, table.dataframe th {\n",
       "    margin: 0;\n",
       "    border: 1px solid white;\n",
       "    padding-left: 0.25em;\n",
       "    padding-right: 0.25em;\n",
       "}\n",
       "table.dataframe th:not(:empty) {\n",
       "    background-color: #fec;\n",
       "    text-align: left;\n",
       "    font-weight: normal;\n",
       "}\n",
       "table.dataframe tr:nth-child(2) th:empty {\n",
       "    border-left: none;\n",
       "    border-right: 1px dashed #888;\n",
       "}\n",
       "table.dataframe td {\n",
       "    border: 2px solid #ccf;\n",
       "    background-color: #f4f4ff;\n",
       "}\n",
       "h3 {\n",
       "    color: white;\n",
       "    background-color: black;\n",
       "    padding: 0.5em;\n",
       "}\n",
       "</style>"
      ],
      "text/plain": [
       "<IPython.core.display.HTML object>"
      ]
     },
     "execution_count": 1,
     "metadata": {},
     "output_type": "execute_result"
    }
   ],
   "source": [
    "from IPython.core.display import HTML\n",
    "css = open('style-table.css').read() + open('style-notebook.css').read()\n",
    "HTML('<style>{}</style>'.format(css))"
   ]
  },
  {
   "cell_type": "code",
   "execution_count": 40,
   "metadata": {
    "collapsed": false
   },
   "outputs": [],
   "source": [
    "import pandas as pd\n",
    "from pandas import DataFrame, Series\n",
    "\n",
    "import numpy as np\n",
    "from collections import namedtuple as tuple\n",
    "\n",
    "import seaborn as sb\n",
    "\n",
    "from collections import defaultdict\n",
    "from blist import blist, sorteddict\n",
    "\n",
    "import heapdict"
   ]
  },
  {
   "cell_type": "markdown",
   "metadata": {},
   "source": [
    "### FHV (For Hire Vehicle) summary"
   ]
  },
  {
   "cell_type": "code",
   "execution_count": 28,
   "metadata": {
    "collapsed": false
   },
   "outputs": [],
   "source": [
    "baseStations = set()\n",
    "locations = set()\n",
    "\n",
    "# b2locmap = defaultdict(list)\n",
    "\n",
    "bases = blist()\n",
    "locs = blist()\n",
    "times = blist()\n",
    "\n",
    "# pkupatbase = heapdict.heapdict() # defaultdict(list)\n",
    "# pkupatloc = heapdict.heapdict() # defaultdict(list)\n",
    "\n",
    "## Check performance of different dict usages\n",
    "## https://biggestfool.tumblr.com/post/21247759480/on-the-speed-of-dictionaries-in-python\n",
    "## https://writeonly.wordpress.com/2008/08/30/sorting-dictionaries-by-value-in-python-improved/\n",
    "pkupatbase = {}\n",
    "pkupatloc = {}"
   ]
  },
  {
   "cell_type": "code",
   "execution_count": 46,
   "metadata": {
    "collapsed": true
   },
   "outputs": [],
   "source": [
    "from operator import itemgetter\n",
    "def sbv6(d,reverse=False):\n",
    "    ''' proposed in PEP 265, using  the itemgetter '''\n",
    "    return sorted(d.iteritems(), key=itemgetter(1), reverse=True)"
   ]
  },
  {
   "cell_type": "code",
   "execution_count": 39,
   "metadata": {
    "collapsed": false
   },
   "outputs": [],
   "source": [
    "fhvfile = open('data/taxi/fhv_tripdata_2016-06.csv', 'r')\n",
    "header = fhvfile.readline().strip().split(',')\n",
    "\n",
    "## Get length of each line for faster string parsing vs. using split()\n",
    "rowlen = len(\"B00008,2016-06-04 04:42:00,\")\n",
    "\n",
    "for line in fhvfile:\n",
    "    ## Each base number is 6 chars long, starting with Bxxxxx, with xxxxx being an integer\n",
    "    basenum, pkuptime, locid = line.strip().split(',')\n",
    "    basenum = int(basenum[1:])\n",
    "    locid = 0 if locid == '' else int(locid)\n",
    "    bases.append(basenum)\n",
    "    locs.append(locid)\n",
    "    times.append(pkuptime)\n",
    "    baseStations.add(basenum)\n",
    "    locations.add(locid)\n",
    "    \n",
    "    ## count pickups per base station and per location\n",
    "    ## TODO: speed of creating dictionaries is very slow - consider alternate count methods when concatenating multiple files\n",
    "    if basenum in pkupatbase:\n",
    "        pkupatbase[basenum] = pkupatbase[basenum] + 1\n",
    "    else:\n",
    "        pkupatbase[basenum] = 1\n",
    "    \n",
    "    if locid in pkupatloc:\n",
    "        pkupatloc[locid] = pkupatloc[locid] + 1\n",
    "    else:\n",
    "        pkupatloc[locid] = 1\n",
    "fhvfile.close()"
   ]
  },
  {
   "cell_type": "code",
   "execution_count": 6,
   "metadata": {
    "collapsed": false
   },
   "outputs": [
    {
     "name": "stdout",
     "output_type": "stream",
     "text": [
      "609 Distinct Base Stations\n",
      "264 Distinct Location IDs\n"
     ]
    }
   ],
   "source": [
    "print \"{0} Distinct Base Stations\".format(len(baseStations))\n",
    "print \"{0} Distinct Location IDs\".format(len(locations))"
   ]
  },
  {
   "cell_type": "code",
   "execution_count": 47,
   "metadata": {
    "collapsed": false
   },
   "outputs": [],
   "source": [
    "## How many of the location IDs correspond to each base station? \n",
    "## How many pickups occur at each location ID? From each base station?\n",
    "## How does num pickups vary per base station / location ID with time?\n",
    "\n",
    "pbase = sbv6(pkupatbase)\n",
    "ploc = sbv6(pkupatloc)"
   ]
  },
  {
   "cell_type": "code",
   "execution_count": 49,
   "metadata": {
    "collapsed": false
   },
   "outputs": [
    {
     "name": "stdout",
     "output_type": "stream",
     "text": [
      "[(2764, 1282882), (2510, 1074722), (2682, 1068603), (2867, 560751), (2800, 517964), (2835, 502914), (2836, 320702), (2765, 302154), (2617, 267855), (2864, 217733)]\n"
     ]
    }
   ],
   "source": [
    "print pbase[0:10]"
   ]
  },
  {
   "cell_type": "code",
   "execution_count": 50,
   "metadata": {
    "collapsed": false
   },
   "outputs": [
    {
     "name": "stdout",
     "output_type": "stream",
     "text": [
      "[(0, 3471116), (161, 159972), (79, 156218), (234, 141062), (231, 138312), (138, 130485), (170, 123799), (132, 123285), (68, 118689), (230, 117225)]\n"
     ]
    }
   ],
   "source": [
    "print ploc[0:10]"
   ]
  },
  {
   "cell_type": "code",
   "execution_count": 15,
   "metadata": {
    "collapsed": false
   },
   "outputs": [
    {
     "name": "stdout",
     "output_type": "stream",
     "text": [
      "set([0, 1, 2, 3, 4, 5, 6, 7, 8, 9, 10, 11, 12, 13, 14, 15, 16, 17, 18, 19, 20, 21, 22, 23, 24, 25, 26, 27, 28, 29, 30, 31, 32, 33, 34, 35, 36, 37, 38, 39, 40, 41, 42, 43, 44, 45, 46, 47, 48, 49, 50, 51, 52, 53, 54, 55, 56, 57, 58, 59, 60, 61, 62, 63, 64, 65, 66, 67, 68, 69, 70, 71, 72, 73, 74, 75, 76, 77, 78, 79, 80, 81, 82, 83, 84, 85, 86, 87, 88, 89, 90, 91, 92, 93, 94, 95, 96, 97, 98, 99, 100, 101, 102, 105, 106, 107, 108, 109, 110, 111, 112, 113, 114, 115, 116, 117, 118, 119, 120, 121, 122, 123, 124, 125, 126, 127, 128, 129, 130, 131, 132, 133, 134, 135, 136, 137, 138, 139, 140, 141, 142, 143, 144, 145, 146, 147, 148, 149, 150, 151, 152, 153, 154, 155, 156, 157, 158, 159, 160, 161, 162, 163, 164, 165, 166, 167, 168, 169, 170, 171, 172, 173, 174, 175, 176, 177, 178, 179, 180, 181, 182, 183, 184, 185, 186, 187, 188, 189, 190, 191, 192, 193, 194, 195, 196, 197, 198, 199, 200, 201, 202, 203, 204, 205, 206, 207, 208, 209, 210, 211, 212, 213, 214, 215, 216, 217, 218, 219, 220, 221, 222, 223, 224, 225, 226, 227, 228, 229, 230, 231, 232, 233, 234, 235, 236, 237, 238, 239, 240, 241, 242, 243, 244, 245, 246, 247, 248, 249, 250, 251, 252, 253, 254, 255, 256, 257, 258, 259, 260, 261, 262, 263, 264, 265])\n"
     ]
    }
   ],
   "source": [
    "print locations"
   ]
  },
  {
   "cell_type": "code",
   "execution_count": 17,
   "metadata": {
    "collapsed": false
   },
   "outputs": [
    {
     "name": "stdout",
     "output_type": "stream",
     "text": [
      "set([1, 2050, 2731, 2054, 2055, 8, 9, 2058, 2060, 13, 14, 2067, 21, 2073, 29, 30, 2080, 37, 39, 2095, 2096, 2099, 53, 2103, 56, 2106, 2107, 2110, 2111, 2120, 2121, 78, 2061, 2132, 2133, 2138, 95, 2144, 2145, 2147, 2148, 2152, 2157, 112, 2936, 2162, 2163, 2167, 2173, 2175, 131, 2180, 2182, 2191, 2196, 149, 151, 2200, 2207, 160, 2210, 2213, 2217, 170, 171, 2222, 2228, 2229, 183, 2240, 2241, 2245, 2248, 2249, 202, 2423, 2252, 2253, 2254, 208, 2263, 2265, 220, 221, 222, 2271, 225, 227, 2277, 2279, 235, 2285, 2287, 2288, 2292, 2293, 248, 2298, 254, 255, 256, 2306, 2315, 2316, 271, 272, 2435, 277, 280, 281, 290, 2339, 2341, 296, 2346, 2352, 310, 2360, 318, 2101, 325, 2379, 337, 2398, 2389, 2391, 345, 2395, 2397, 350, 2401, 2405, 2406, 2408, 2410, 2416, 369, 2418, 373, 375, 2424, 2426, 2427, 381, 385, 387, 2437, 2440, 401, 2450, 2453, 411, 412, 2461, 2462, 2459, 2468, 2469, 2470, 2471, 2460, 2476, 429, 2480, 2485, 2488, 2491, 445, 446, 448, 449, 2499, 2501, 2503, 457, 459, 2508, 2510, 2511, 2512, 2517, 472, 2522, 2127, 477, 481, 2531, 2532, 2534, 2536, 2537, 2538, 492, 2541, 2546, 2547, 2550, 2551, 2553, 2554, 2555, 2556, 2557, 2563, 2566, 2569, 2573, 2574, 531, 536, 2590, 2594, 2597, 552, 556, 559, 2610, 2612, 2613, 2614, 2617, 2627, 2629, 2631, 2634, 2338, 2637, 2638, 593, 597, 2649, 2651, 2653, 2654, 2655, 608, 2657, 2658, 2661, 2662, 2664, 619, 2669, 2670, 2671, 625, 2674, 628, 2677, 2681, 2682, 2686, 2687, 2688, 2496, 2694, 647, 2699, 652, 653, 2702, 2705, 2713, 2715, 2716, 2717, 2719, 2160, 2722, 2723, 2724, 2725, 2726, 2727, 2728, 2273, 2732, 2735, 2736, 2737, 2738, 2739, 693, 2747, 2749, 2751, 706, 2756, 2759, 2762, 2764, 2765, 2767, 2768, 2770, 2851, 2774, 727, 2782, 2783, 2784, 2797, 2799, 2800, 2803, 756, 2809, 2811, 2817, 2819, 2821, 2825, 2826, 2833, 2835, 2836, 789, 2838, 2839, 2841, 2845, 2846, 2848, 2849, 475, 2852, 2855, 2858, 2864, 2865, 2866, 2867, 821, 2870, 823, 2872, 2874, 827, 2876, 2877, 2878, 2869, 2880, 2881, 2882, 2883, 2884, 837, 2887, 2888, 2889, 2871, 2893, 2896, 2897, 2898, 2899, 2901, 2903, 856, 2905, 859, 860, 2909, 2912, 2913, 2914, 2875, 2917, 2921, 2922, 2924, 2929, 882, 887, 888, 889, 2879, 2943, 900, 906, 911, 932, 937, 941, 948, 955, 965, 975, 983, 984, 990, 991, 1009, 1016, 1020, 1021, 2219, 1029, 1039, 2904, 1045, 1048, 1051, 1056, 1057, 2907, 1061, 2908, 1066, 1079, 1081, 1087, 1088, 1109, 1118, 1128, 1129, 2667, 1145, 1146, 1148, 1175, 1176, 1177, 1183, 1190, 1194, 1196, 1197, 1200, 1215, 1231, 1233, 1236, 1239, 1244, 2939, 1259, 1263, 1264, 1265, 1269, 2429, 1273, 1280, 1282, 1285, 1288, 1292, 1300, 1306, 1308, 1312, 1315, 1318, 1326, 1328, 1332, 1336, 1338, 1339, 1340, 1341, 1343, 1346, 1349, 1351, 1353, 1355, 1362, 1364, 1367, 1379, 1381, 1386, 1389, 1391, 1392, 1394, 1397, 1406, 1413, 1417, 1420, 1424, 1432, 1436, 1437, 1444, 1445, 1452, 1453, 1454, 1455, 1467, 1469, 1470, 1478, 1479, 1482, 1485, 1487, 1492, 1498, 1506, 1509, 1510, 2641, 1514, 1522, 1525, 1527, 2303, 1534, 1536, 1537, 1538, 1546, 1552, 1553, 1559, 1568, 1593, 1594, 1600, 1601, 1614, 1623, 1625, 1626, 1629, 1635, 1639, 1642, 1644, 1651, 1653, 1663, 1667, 1674, 1699, 1700, 2673, 1710, 1711, 1717, 1721, 1726, 1727, 1730, 1733, 1734, 1737, 1738, 1741, 1742, 1751, 1764, 1768, 1777, 2689, 1800, 1801, 1804, 1808, 1846, 1854, 1861, 1875, 1876, 1877, 1899, 1907, 1913, 1918, 1923, 1928, 1938, 1949, 1957, 1958, 1963, 1964, 1970, 1973, 1976, 1979, 1980, 1984, 1989, 1990, 2721, 1995, 1996, 1998, 2003, 2004, 2005, 2006, 2011, 2016, 2021, 2022, 2026, 2027, 2028, 2034, 2037])\n"
     ]
    }
   ],
   "source": [
    "print baseStations"
   ]
  },
  {
   "cell_type": "code",
   "execution_count": 19,
   "metadata": {
    "collapsed": false
   },
   "outputs": [
    {
     "data": {
      "text/plain": [
       "27"
      ]
     },
     "execution_count": 19,
     "metadata": {},
     "output_type": "execute_result"
    }
   ],
   "source": [
    "slen"
   ]
  },
  {
   "cell_type": "code",
   "execution_count": null,
   "metadata": {
    "collapsed": true
   },
   "outputs": [],
   "source": []
  }
 ],
 "metadata": {
  "anaconda-cloud": {},
  "kernelspec": {
   "display_name": "Python [conda root]",
   "language": "python",
   "name": "conda-root-py"
  },
  "language_info": {
   "codemirror_mode": {
    "name": "ipython",
    "version": 2
   },
   "file_extension": ".py",
   "mimetype": "text/x-python",
   "name": "python",
   "nbconvert_exporter": "python",
   "pygments_lexer": "ipython2",
   "version": "2.7.12"
  }
 },
 "nbformat": 4,
 "nbformat_minor": 1
}
