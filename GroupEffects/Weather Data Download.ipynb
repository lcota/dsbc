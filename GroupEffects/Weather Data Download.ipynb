{
 "cells": [
  {
   "cell_type": "markdown",
   "metadata": {},
   "source": [
    "# Downloading Weather Data\n",
    "### Source: **Bloomberg**"
   ]
  },
  {
   "cell_type": "code",
   "execution_count": 1,
   "metadata": {
    "collapsed": true
   },
   "outputs": [],
   "source": [
    "%matplotlib inline\n",
    "import seaborn as sb\n",
    "import matplotlib.pyplot as plt"
   ]
  },
  {
   "cell_type": "code",
   "execution_count": 3,
   "metadata": {
    "collapsed": false
   },
   "outputs": [],
   "source": [
    "from matplotlib.pyplot import plot, scatter, acorr, axes, title, legend, xlabel, ylabel, xcorr, xlim, ylim, boxplot, figure, grid, hist, hlines, vlines, hold, ion, ioff, rc, rcParams, show, subplot, subplots, xkcd"
   ]
  },
  {
   "cell_type": "code",
   "execution_count": 4,
   "metadata": {
    "collapsed": true
   },
   "outputs": [],
   "source": [
    "import pandas as pd\n",
    "from pandas import DataFrame, Series, Index, datetools"
   ]
  },
  {
   "cell_type": "code",
   "execution_count": 9,
   "metadata": {
    "collapsed": false
   },
   "outputs": [],
   "source": [
    "weather = pd.read_csv('weather_historical.tab', delimiter='\\t')"
   ]
  },
  {
   "cell_type": "markdown",
   "metadata": {},
   "source": [
    "### Questions\n",
    "\n",
    "*How can I show descriptive statistics like those below, but by periods? Such as describe() --> by week --> by month --> by quarter?*  \n",
    "\n",
    "*What would you start looking at in the weather data just to get a feel for what it is and what it says?*"
   ]
  },
  {
   "cell_type": "code",
   "execution_count": 11,
   "metadata": {
    "collapsed": false
   },
   "outputs": [
    {
     "data": {
      "text/html": [
       "<div>\n",
       "<table border=\"1\" class=\"dataframe\">\n",
       "  <thead>\n",
       "    <tr style=\"text-align: right;\">\n",
       "      <th></th>\n",
       "      <th>MEAN_TEMP</th>\n",
       "      <th>HIGH_TEMP</th>\n",
       "      <th>LOW_TEMP</th>\n",
       "      <th>PRECIPITATION</th>\n",
       "      <th>REL_HUMIDITY</th>\n",
       "      <th>WIND_SPEED</th>\n",
       "    </tr>\n",
       "  </thead>\n",
       "  <tbody>\n",
       "    <tr>\n",
       "      <th>count</th>\n",
       "      <td>345.000000</td>\n",
       "      <td>345.000000</td>\n",
       "      <td>345.000000</td>\n",
       "      <td>345.000000</td>\n",
       "      <td>345.000000</td>\n",
       "      <td>345.000000</td>\n",
       "    </tr>\n",
       "    <tr>\n",
       "      <th>mean</th>\n",
       "      <td>52.160841</td>\n",
       "      <td>61.856609</td>\n",
       "      <td>42.464899</td>\n",
       "      <td>8.766725</td>\n",
       "      <td>67.099246</td>\n",
       "      <td>5.969884</td>\n",
       "    </tr>\n",
       "    <tr>\n",
       "      <th>std</th>\n",
       "      <td>17.458865</td>\n",
       "      <td>18.506321</td>\n",
       "      <td>16.854161</td>\n",
       "      <td>13.245501</td>\n",
       "      <td>10.333410</td>\n",
       "      <td>2.586760</td>\n",
       "    </tr>\n",
       "    <tr>\n",
       "      <th>min</th>\n",
       "      <td>-1.340000</td>\n",
       "      <td>9.020000</td>\n",
       "      <td>-11.690000</td>\n",
       "      <td>0.000000</td>\n",
       "      <td>38.140000</td>\n",
       "      <td>1.750000</td>\n",
       "    </tr>\n",
       "    <tr>\n",
       "      <th>25%</th>\n",
       "      <td>39.680000</td>\n",
       "      <td>47.430000</td>\n",
       "      <td>30.560000</td>\n",
       "      <td>0.640000</td>\n",
       "      <td>59.710000</td>\n",
       "      <td>4.070000</td>\n",
       "    </tr>\n",
       "    <tr>\n",
       "      <th>50%</th>\n",
       "      <td>51.600000</td>\n",
       "      <td>63.000000</td>\n",
       "      <td>41.610000</td>\n",
       "      <td>3.330000</td>\n",
       "      <td>67.290000</td>\n",
       "      <td>5.400000</td>\n",
       "    </tr>\n",
       "    <tr>\n",
       "      <th>75%</th>\n",
       "      <td>68.230000</td>\n",
       "      <td>79.140000</td>\n",
       "      <td>57.170000</td>\n",
       "      <td>12.920000</td>\n",
       "      <td>74.400000</td>\n",
       "      <td>7.230000</td>\n",
       "    </tr>\n",
       "    <tr>\n",
       "      <th>max</th>\n",
       "      <td>81.650000</td>\n",
       "      <td>90.650000</td>\n",
       "      <td>73.100000</td>\n",
       "      <td>104.620000</td>\n",
       "      <td>92.100000</td>\n",
       "      <td>16.840000</td>\n",
       "    </tr>\n",
       "  </tbody>\n",
       "</table>\n",
       "</div>"
      ],
      "text/plain": [
       "        MEAN_TEMP   HIGH_TEMP    LOW_TEMP  PRECIPITATION  REL_HUMIDITY  \\\n",
       "count  345.000000  345.000000  345.000000     345.000000    345.000000   \n",
       "mean    52.160841   61.856609   42.464899       8.766725     67.099246   \n",
       "std     17.458865   18.506321   16.854161      13.245501     10.333410   \n",
       "min     -1.340000    9.020000  -11.690000       0.000000     38.140000   \n",
       "25%     39.680000   47.430000   30.560000       0.640000     59.710000   \n",
       "50%     51.600000   63.000000   41.610000       3.330000     67.290000   \n",
       "75%     68.230000   79.140000   57.170000      12.920000     74.400000   \n",
       "max     81.650000   90.650000   73.100000     104.620000     92.100000   \n",
       "\n",
       "       WIND_SPEED  \n",
       "count  345.000000  \n",
       "mean     5.969884  \n",
       "std      2.586760  \n",
       "min      1.750000  \n",
       "25%      4.070000  \n",
       "50%      5.400000  \n",
       "75%      7.230000  \n",
       "max     16.840000  "
      ]
     },
     "execution_count": 11,
     "metadata": {},
     "output_type": "execute_result"
    }
   ],
   "source": [
    "weather.describe()"
   ]
  },
  {
   "cell_type": "code",
   "execution_count": null,
   "metadata": {
    "collapsed": true
   },
   "outputs": [],
   "source": []
  },
  {
   "cell_type": "code",
   "execution_count": null,
   "metadata": {
    "collapsed": true
   },
   "outputs": [],
   "source": []
  },
  {
   "cell_type": "code",
   "execution_count": null,
   "metadata": {
    "collapsed": true
   },
   "outputs": [],
   "source": []
  },
  {
   "cell_type": "code",
   "execution_count": null,
   "metadata": {
    "collapsed": true
   },
   "outputs": [],
   "source": []
  },
  {
   "cell_type": "code",
   "execution_count": null,
   "metadata": {
    "collapsed": true
   },
   "outputs": [],
   "source": []
  },
  {
   "cell_type": "code",
   "execution_count": null,
   "metadata": {
    "collapsed": true
   },
   "outputs": [],
   "source": []
  },
  {
   "cell_type": "code",
   "execution_count": null,
   "metadata": {
    "collapsed": true
   },
   "outputs": [],
   "source": []
  },
  {
   "cell_type": "code",
   "execution_count": null,
   "metadata": {
    "collapsed": true
   },
   "outputs": [],
   "source": []
  },
  {
   "cell_type": "code",
   "execution_count": null,
   "metadata": {
    "collapsed": true
   },
   "outputs": [],
   "source": []
  }
 ],
 "metadata": {
  "anaconda-cloud": {},
  "kernelspec": {
   "display_name": "Python [conda root]",
   "language": "python",
   "name": "conda-root-py"
  },
  "language_info": {
   "codemirror_mode": {
    "name": "ipython",
    "version": 2
   },
   "file_extension": ".py",
   "mimetype": "text/x-python",
   "name": "python",
   "nbconvert_exporter": "python",
   "pygments_lexer": "ipython2",
   "version": "2.7.12"
  }
 },
 "nbformat": 4,
 "nbformat_minor": 1
}
